{
 "cells": [
  {
   "cell_type": "markdown",
   "metadata": {},
   "source": [
    "### Heroes Of Pymoli Data Analysis\n",
    "* Of the 1163 active players, the vast majority are male (84%). There also exists, a smaller, but notable proportion of female players (14%).\n",
    "\n",
    "* Our peak age demographic falls between 20-24 (44.8%) with secondary groups falling between 15-19 (18.60%) and 25-29 (13.4%).  \n",
    "-----"
   ]
  },
  {
   "cell_type": "code",
   "execution_count": 106,
   "metadata": {},
   "outputs": [
    {
     "data": {
      "text/html": [
       "<div>\n",
       "<style scoped>\n",
       "    .dataframe tbody tr th:only-of-type {\n",
       "        vertical-align: middle;\n",
       "    }\n",
       "\n",
       "    .dataframe tbody tr th {\n",
       "        vertical-align: top;\n",
       "    }\n",
       "\n",
       "    .dataframe thead th {\n",
       "        text-align: right;\n",
       "    }\n",
       "</style>\n",
       "<table border=\"1\" class=\"dataframe\">\n",
       "  <thead>\n",
       "    <tr style=\"text-align: right;\">\n",
       "      <th></th>\n",
       "      <th>Purchase ID</th>\n",
       "      <th>SN</th>\n",
       "      <th>Age</th>\n",
       "      <th>Gender</th>\n",
       "      <th>Item ID</th>\n",
       "      <th>Item Name</th>\n",
       "      <th>Price</th>\n",
       "    </tr>\n",
       "  </thead>\n",
       "  <tbody>\n",
       "    <tr>\n",
       "      <th>0</th>\n",
       "      <td>0</td>\n",
       "      <td>Lisim78</td>\n",
       "      <td>20</td>\n",
       "      <td>Male</td>\n",
       "      <td>108</td>\n",
       "      <td>Extraction, Quickblade Of Trembling Hands</td>\n",
       "      <td>3.53</td>\n",
       "    </tr>\n",
       "    <tr>\n",
       "      <th>1</th>\n",
       "      <td>1</td>\n",
       "      <td>Lisovynya38</td>\n",
       "      <td>40</td>\n",
       "      <td>Male</td>\n",
       "      <td>143</td>\n",
       "      <td>Frenzied Scimitar</td>\n",
       "      <td>1.56</td>\n",
       "    </tr>\n",
       "    <tr>\n",
       "      <th>2</th>\n",
       "      <td>2</td>\n",
       "      <td>Ithergue48</td>\n",
       "      <td>24</td>\n",
       "      <td>Male</td>\n",
       "      <td>92</td>\n",
       "      <td>Final Critic</td>\n",
       "      <td>4.88</td>\n",
       "    </tr>\n",
       "    <tr>\n",
       "      <th>3</th>\n",
       "      <td>3</td>\n",
       "      <td>Chamassasya86</td>\n",
       "      <td>24</td>\n",
       "      <td>Male</td>\n",
       "      <td>100</td>\n",
       "      <td>Blindscythe</td>\n",
       "      <td>3.27</td>\n",
       "    </tr>\n",
       "    <tr>\n",
       "      <th>4</th>\n",
       "      <td>4</td>\n",
       "      <td>Iskosia90</td>\n",
       "      <td>23</td>\n",
       "      <td>Male</td>\n",
       "      <td>131</td>\n",
       "      <td>Fury</td>\n",
       "      <td>1.44</td>\n",
       "    </tr>\n",
       "  </tbody>\n",
       "</table>\n",
       "</div>"
      ],
      "text/plain": [
       "   Purchase ID             SN  Age Gender  Item ID  \\\n",
       "0            0        Lisim78   20   Male      108   \n",
       "1            1    Lisovynya38   40   Male      143   \n",
       "2            2     Ithergue48   24   Male       92   \n",
       "3            3  Chamassasya86   24   Male      100   \n",
       "4            4      Iskosia90   23   Male      131   \n",
       "\n",
       "                                   Item Name  Price  \n",
       "0  Extraction, Quickblade Of Trembling Hands   3.53  \n",
       "1                          Frenzied Scimitar   1.56  \n",
       "2                               Final Critic   4.88  \n",
       "3                                Blindscythe   3.27  \n",
       "4                                       Fury   1.44  "
      ]
     },
     "execution_count": 106,
     "metadata": {},
     "output_type": "execute_result"
    }
   ],
   "source": [
    "import pandas as pd\n",
    "file_to_load = \"Resources/purchase_data.csv\"\n",
    "purchase_data = pd.read_csv(file_to_load)\n",
    "purchase_data.head()"
   ]
  },
  {
   "cell_type": "markdown",
   "metadata": {},
   "source": [
    "## Player Count"
   ]
  },
  {
   "cell_type": "markdown",
   "metadata": {},
   "source": [
    "* Display the total number of players\n"
   ]
  },
  {
   "cell_type": "code",
   "execution_count": 107,
   "metadata": {},
   "outputs": [
    {
     "data": {
      "text/html": [
       "<div>\n",
       "<style scoped>\n",
       "    .dataframe tbody tr th:only-of-type {\n",
       "        vertical-align: middle;\n",
       "    }\n",
       "\n",
       "    .dataframe tbody tr th {\n",
       "        vertical-align: top;\n",
       "    }\n",
       "\n",
       "    .dataframe thead th {\n",
       "        text-align: right;\n",
       "    }\n",
       "</style>\n",
       "<table border=\"1\" class=\"dataframe\">\n",
       "  <thead>\n",
       "    <tr style=\"text-align: right;\">\n",
       "      <th></th>\n",
       "      <th>Total Players</th>\n",
       "    </tr>\n",
       "  </thead>\n",
       "  <tbody>\n",
       "    <tr>\n",
       "      <th>0</th>\n",
       "      <td>576</td>\n",
       "    </tr>\n",
       "  </tbody>\n",
       "</table>\n",
       "</div>"
      ],
      "text/plain": [
       "   Total Players\n",
       "0            576"
      ]
     },
     "execution_count": 107,
     "metadata": {},
     "output_type": "execute_result"
    }
   ],
   "source": [
    "player_count = pd.DataFrame({\"Total Players\":[len(purchase_data.SN.unique())]})\n",
    "player_count"
   ]
  },
  {
   "cell_type": "markdown",
   "metadata": {},
   "source": [
    "## Purchasing Analysis (Total)"
   ]
  },
  {
   "cell_type": "markdown",
   "metadata": {},
   "source": [
    "* Run basic calculations to obtain number of unique items, average price, etc.\n",
    "\n",
    "\n",
    "* Create a summary data frame to hold the results\n",
    "\n",
    "\n",
    "* Optional: give the displayed data cleaner formatting\n",
    "\n",
    "\n",
    "* Display the summary data frame\n"
   ]
  },
  {
   "cell_type": "code",
   "execution_count": 108,
   "metadata": {},
   "outputs": [
    {
     "data": {
      "text/html": [
       "<style  type=\"text/css\" >\n",
       "</style><table id=\"T_662c586e_8b27_11ea_8e71_3c9180851428\" ><thead>    <tr>        <th class=\"blank level0\" ></th>        <th class=\"col_heading level0 col0\" >Number of Unique Items</th>        <th class=\"col_heading level0 col1\" >Average Price</th>        <th class=\"col_heading level0 col2\" >Number of Purchases</th>        <th class=\"col_heading level0 col3\" >Total Revenue</th>    </tr></thead><tbody>\n",
       "                <tr>\n",
       "                        <th id=\"T_662c586e_8b27_11ea_8e71_3c9180851428level0_row0\" class=\"row_heading level0 row0\" >0</th>\n",
       "                        <td id=\"T_662c586e_8b27_11ea_8e71_3c9180851428row0_col0\" class=\"data row0 col0\" >179</td>\n",
       "                        <td id=\"T_662c586e_8b27_11ea_8e71_3c9180851428row0_col1\" class=\"data row0 col1\" >$3.05</td>\n",
       "                        <td id=\"T_662c586e_8b27_11ea_8e71_3c9180851428row0_col2\" class=\"data row0 col2\" >780</td>\n",
       "                        <td id=\"T_662c586e_8b27_11ea_8e71_3c9180851428row0_col3\" class=\"data row0 col3\" >$2,379.77</td>\n",
       "            </tr>\n",
       "    </tbody></table>"
      ],
      "text/plain": [
       "<pandas.io.formats.style.Styler at 0x194e6cc52e8>"
      ]
     },
     "execution_count": 108,
     "metadata": {},
     "output_type": "execute_result"
    }
   ],
   "source": [
    "#Let's see number of item ids and item names match\n",
    "renamed_df = purchase_data.rename(columns={\"Item ID\":\"item_id\", \"Item Name\":\"item_name\"})\n",
    "num_uniqueitems = len(renamed_df.item_id.unique())\n",
    "#len(renamed_df.item_name.unique())\n",
    "#Both columns have same amount of values so there is no missing value\n",
    "#There is no typo in column Item_Name\n",
    "\n",
    "ave_price = purchase_data[\"Price\"].mean()\n",
    "price_count = purchase_data[\"Price\"].count()\n",
    "total_price = purchase_data[\"Price\"].sum()\n",
    "\n",
    "#summary dataframe\n",
    "purchasing_analysis = {\"Number of Unique Items\":[num_uniqueitems], \"Average Price\":[ave_price], \n",
    "                       \"Number of Purchases\":[price_count], \"Total Revenue\":[total_price]}\n",
    "purchasing_analysis = pd.DataFrame(purchasing_analysis)\n",
    "\n",
    "#format and display\n",
    "purchasing_analysis.style.format({\"Average Price\":\"${:,.2f}\", \"Total Revenue\": '${:,.2f}'})\n",
    "\n"
   ]
  },
  {
   "cell_type": "markdown",
   "metadata": {},
   "source": [
    "## Gender Demographics"
   ]
  },
  {
   "cell_type": "markdown",
   "metadata": {},
   "source": [
    "* Percentage and Count of Male Players\n",
    "\n",
    "\n",
    "* Percentage and Count of Female Players\n",
    "\n",
    "\n",
    "* Percentage and Count of Other / Non-Disclosed\n",
    "\n",
    "\n"
   ]
  },
  {
   "cell_type": "code",
   "execution_count": 109,
   "metadata": {},
   "outputs": [
    {
     "data": {
      "text/plain": [
       "array(['Male', 'Other / Non-Disclosed', 'Female'], dtype=object)"
      ]
     },
     "execution_count": 109,
     "metadata": {},
     "output_type": "execute_result"
    }
   ],
   "source": [
    "#Let's see what gender values we have or is there a nan value\n",
    "unique_pd = purchase_data.Gender.unique()\n",
    "unique_pd"
   ]
  },
  {
   "cell_type": "code",
   "execution_count": 110,
   "metadata": {},
   "outputs": [
    {
     "data": {
      "text/html": [
       "<style  type=\"text/css\" >\n",
       "</style><table id=\"T_6a0e891c_8b27_11ea_ad24_3c9180851428\" ><thead>    <tr>        <th class=\"blank level0\" ></th>        <th class=\"col_heading level0 col0\" >Total Count</th>        <th class=\"col_heading level0 col1\" >Percentage of Players</th>    </tr>    <tr>        <th class=\"index_name level0\" >Gender</th>        <th class=\"blank\" ></th>        <th class=\"blank\" ></th>    </tr></thead><tbody>\n",
       "                <tr>\n",
       "                        <th id=\"T_6a0e891c_8b27_11ea_ad24_3c9180851428level0_row0\" class=\"row_heading level0 row0\" >Female</th>\n",
       "                        <td id=\"T_6a0e891c_8b27_11ea_ad24_3c9180851428row0_col0\" class=\"data row0 col0\" >81</td>\n",
       "                        <td id=\"T_6a0e891c_8b27_11ea_ad24_3c9180851428row0_col1\" class=\"data row0 col1\" >%14.06</td>\n",
       "            </tr>\n",
       "            <tr>\n",
       "                        <th id=\"T_6a0e891c_8b27_11ea_ad24_3c9180851428level0_row1\" class=\"row_heading level0 row1\" >Male</th>\n",
       "                        <td id=\"T_6a0e891c_8b27_11ea_ad24_3c9180851428row1_col0\" class=\"data row1 col0\" >484</td>\n",
       "                        <td id=\"T_6a0e891c_8b27_11ea_ad24_3c9180851428row1_col1\" class=\"data row1 col1\" >%84.03</td>\n",
       "            </tr>\n",
       "            <tr>\n",
       "                        <th id=\"T_6a0e891c_8b27_11ea_ad24_3c9180851428level0_row2\" class=\"row_heading level0 row2\" >Other / Non-Disclosed</th>\n",
       "                        <td id=\"T_6a0e891c_8b27_11ea_ad24_3c9180851428row2_col0\" class=\"data row2 col0\" >11</td>\n",
       "                        <td id=\"T_6a0e891c_8b27_11ea_ad24_3c9180851428row2_col1\" class=\"data row2 col1\" >%1.91</td>\n",
       "            </tr>\n",
       "    </tbody></table>"
      ],
      "text/plain": [
       "<pandas.io.formats.style.Styler at 0x194e6c95f28>"
      ]
     },
     "execution_count": 110,
     "metadata": {},
     "output_type": "execute_result"
    }
   ],
   "source": [
    "# player_count = pd.DataFrame({\"Total Players\":[len(purchase_data.SN.unique())]})\n",
    "\n",
    "unique_pd = purchase_data.drop_duplicates(subset=\"SN\", keep='first')\n",
    "grouped_pd = unique_pd.groupby(\"Gender\")\n",
    "genders = grouped_pd[\"Gender\"].count()\n",
    "total_players = len(purchase_data.SN.unique())\n",
    "percentage = genders/total_players*100\n",
    "\n",
    "#summary dataframe\n",
    "gender_demo = {\"Total Count\":genders, \"Percentage of Players\":percentage}\n",
    "gender_demo = pd.DataFrame(gender_demo)\n",
    "\n",
    "#format and display\n",
    "gender_demo.style.format({\"Percentage of Players\":\"%{:,.2f}\"}) \n",
    "\n",
    "\n",
    "\n"
   ]
  },
  {
   "cell_type": "markdown",
   "metadata": {},
   "source": [
    "\n",
    "## Purchasing Analysis (Gender)"
   ]
  },
  {
   "cell_type": "markdown",
   "metadata": {},
   "source": [
    "* Run basic calculations to obtain purchase count, avg. purchase price, avg. purchase total per person etc. by gender\n",
    "\n",
    "\n",
    "\n",
    "\n",
    "* Create a summary data frame to hold the results\n",
    "\n",
    "\n",
    "* Optional: give the displayed data cleaner formatting\n",
    "\n",
    "\n",
    "* Display the summary data frame"
   ]
  },
  {
   "cell_type": "code",
   "execution_count": 111,
   "metadata": {},
   "outputs": [
    {
     "data": {
      "text/html": [
       "<style  type=\"text/css\" >\n",
       "</style><table id=\"T_6cf0ff86_8b27_11ea_906c_3c9180851428\" ><thead>    <tr>        <th class=\"blank level0\" ></th>        <th class=\"col_heading level0 col0\" >Purchase Count</th>        <th class=\"col_heading level0 col1\" >Average Purchase Price</th>        <th class=\"col_heading level0 col2\" >Total Purchase Value</th>        <th class=\"col_heading level0 col3\" >Avg Total Purchase per Person</th>    </tr>    <tr>        <th class=\"index_name level0\" >Gender</th>        <th class=\"blank\" ></th>        <th class=\"blank\" ></th>        <th class=\"blank\" ></th>        <th class=\"blank\" ></th>    </tr></thead><tbody>\n",
       "                <tr>\n",
       "                        <th id=\"T_6cf0ff86_8b27_11ea_906c_3c9180851428level0_row0\" class=\"row_heading level0 row0\" >Female</th>\n",
       "                        <td id=\"T_6cf0ff86_8b27_11ea_906c_3c9180851428row0_col0\" class=\"data row0 col0\" >113</td>\n",
       "                        <td id=\"T_6cf0ff86_8b27_11ea_906c_3c9180851428row0_col1\" class=\"data row0 col1\" >$3.20</td>\n",
       "                        <td id=\"T_6cf0ff86_8b27_11ea_906c_3c9180851428row0_col2\" class=\"data row0 col2\" >$361.94</td>\n",
       "                        <td id=\"T_6cf0ff86_8b27_11ea_906c_3c9180851428row0_col3\" class=\"data row0 col3\" >$4.47</td>\n",
       "            </tr>\n",
       "            <tr>\n",
       "                        <th id=\"T_6cf0ff86_8b27_11ea_906c_3c9180851428level0_row1\" class=\"row_heading level0 row1\" >Male</th>\n",
       "                        <td id=\"T_6cf0ff86_8b27_11ea_906c_3c9180851428row1_col0\" class=\"data row1 col0\" >652</td>\n",
       "                        <td id=\"T_6cf0ff86_8b27_11ea_906c_3c9180851428row1_col1\" class=\"data row1 col1\" >$3.02</td>\n",
       "                        <td id=\"T_6cf0ff86_8b27_11ea_906c_3c9180851428row1_col2\" class=\"data row1 col2\" >$1,967.64</td>\n",
       "                        <td id=\"T_6cf0ff86_8b27_11ea_906c_3c9180851428row1_col3\" class=\"data row1 col3\" >$4.07</td>\n",
       "            </tr>\n",
       "            <tr>\n",
       "                        <th id=\"T_6cf0ff86_8b27_11ea_906c_3c9180851428level0_row2\" class=\"row_heading level0 row2\" >Other / Non-Disclosed</th>\n",
       "                        <td id=\"T_6cf0ff86_8b27_11ea_906c_3c9180851428row2_col0\" class=\"data row2 col0\" >15</td>\n",
       "                        <td id=\"T_6cf0ff86_8b27_11ea_906c_3c9180851428row2_col1\" class=\"data row2 col1\" >$3.35</td>\n",
       "                        <td id=\"T_6cf0ff86_8b27_11ea_906c_3c9180851428row2_col2\" class=\"data row2 col2\" >$50.19</td>\n",
       "                        <td id=\"T_6cf0ff86_8b27_11ea_906c_3c9180851428row2_col3\" class=\"data row2 col3\" >$4.56</td>\n",
       "            </tr>\n",
       "    </tbody></table>"
      ],
      "text/plain": [
       "<pandas.io.formats.style.Styler at 0x194e6d1d240>"
      ]
     },
     "execution_count": 111,
     "metadata": {},
     "output_type": "execute_result"
    }
   ],
   "source": [
    "grouped_bygender = purchase_data.groupby(\"Gender\")\n",
    "purchase_count = grouped_bygender[\"Price\"].count()\n",
    "purchase_ave = grouped_bygender[\"Price\"].mean()\n",
    "purchase_total = grouped_bygender[\"Price\"].sum()\n",
    "purchase_avepp = purchase_total/genders\n",
    "\n",
    "#summary dataframe\n",
    "gender_analysis = {\"Purchase Count\":purchase_count, \"Average Purchase Price\":purchase_ave, \n",
    "                   \"Total Purchase Value\":purchase_total, \"Avg Total Purchase per Person\":purchase_avepp}\n",
    "gender_analysis = pd.DataFrame(gender_analysis)\n",
    "\n",
    "#format and display\n",
    "gender_analysis.style.format({\"Total Purchase Value\":\"${:,.2f}\", \"Average Purchase Price\":\"${:,.2f}\", \n",
    "                              \"Avg Total Purchase per Person\": \"${:,.2f}\"})\n"
   ]
  },
  {
   "cell_type": "markdown",
   "metadata": {},
   "source": [
    "## Age Demographics"
   ]
  },
  {
   "cell_type": "markdown",
   "metadata": {},
   "source": [
    "* Establish bins for ages\n",
    "\n",
    "\n",
    "* Categorize the existing players using the age bins. Hint: use pd.cut()\n",
    "\n",
    "\n",
    "* Calculate the numbers and percentages by age group\n",
    "\n",
    "\n",
    "* Create a summary data frame to hold the results\n",
    "\n",
    "\n",
    "* Optional: round the percentage column to two decimal points\n",
    "\n",
    "\n",
    "* Display Age Demographics Table\n"
   ]
  },
  {
   "cell_type": "code",
   "execution_count": 131,
   "metadata": {},
   "outputs": [
    {
     "data": {
      "text/html": [
       "<style  type=\"text/css\" >\n",
       "</style><table id=\"T_41d7ac70_8b2a_11ea_bc7c_3c9180851428\" ><thead>    <tr>        <th class=\"blank level0\" ></th>        <th class=\"col_heading level0 col0\" >Total Count</th>        <th class=\"col_heading level0 col1\" >Percentage of Players</th>    </tr>    <tr>        <th class=\"index_name level0\" >Age Ranges</th>        <th class=\"blank\" ></th>        <th class=\"blank\" ></th>    </tr></thead><tbody>\n",
       "                <tr>\n",
       "                        <th id=\"T_41d7ac70_8b2a_11ea_bc7c_3c9180851428level0_row0\" class=\"row_heading level0 row0\" ><10</th>\n",
       "                        <td id=\"T_41d7ac70_8b2a_11ea_bc7c_3c9180851428row0_col0\" class=\"data row0 col0\" >17</td>\n",
       "                        <td id=\"T_41d7ac70_8b2a_11ea_bc7c_3c9180851428row0_col1\" class=\"data row0 col1\" >2.95%</td>\n",
       "            </tr>\n",
       "            <tr>\n",
       "                        <th id=\"T_41d7ac70_8b2a_11ea_bc7c_3c9180851428level0_row1\" class=\"row_heading level0 row1\" >10-14</th>\n",
       "                        <td id=\"T_41d7ac70_8b2a_11ea_bc7c_3c9180851428row1_col0\" class=\"data row1 col0\" >22</td>\n",
       "                        <td id=\"T_41d7ac70_8b2a_11ea_bc7c_3c9180851428row1_col1\" class=\"data row1 col1\" >3.82%</td>\n",
       "            </tr>\n",
       "            <tr>\n",
       "                        <th id=\"T_41d7ac70_8b2a_11ea_bc7c_3c9180851428level0_row2\" class=\"row_heading level0 row2\" >15-19</th>\n",
       "                        <td id=\"T_41d7ac70_8b2a_11ea_bc7c_3c9180851428row2_col0\" class=\"data row2 col0\" >107</td>\n",
       "                        <td id=\"T_41d7ac70_8b2a_11ea_bc7c_3c9180851428row2_col1\" class=\"data row2 col1\" >18.58%</td>\n",
       "            </tr>\n",
       "            <tr>\n",
       "                        <th id=\"T_41d7ac70_8b2a_11ea_bc7c_3c9180851428level0_row3\" class=\"row_heading level0 row3\" >20-24</th>\n",
       "                        <td id=\"T_41d7ac70_8b2a_11ea_bc7c_3c9180851428row3_col0\" class=\"data row3 col0\" >258</td>\n",
       "                        <td id=\"T_41d7ac70_8b2a_11ea_bc7c_3c9180851428row3_col1\" class=\"data row3 col1\" >44.79%</td>\n",
       "            </tr>\n",
       "            <tr>\n",
       "                        <th id=\"T_41d7ac70_8b2a_11ea_bc7c_3c9180851428level0_row4\" class=\"row_heading level0 row4\" >25-29</th>\n",
       "                        <td id=\"T_41d7ac70_8b2a_11ea_bc7c_3c9180851428row4_col0\" class=\"data row4 col0\" >77</td>\n",
       "                        <td id=\"T_41d7ac70_8b2a_11ea_bc7c_3c9180851428row4_col1\" class=\"data row4 col1\" >13.37%</td>\n",
       "            </tr>\n",
       "            <tr>\n",
       "                        <th id=\"T_41d7ac70_8b2a_11ea_bc7c_3c9180851428level0_row5\" class=\"row_heading level0 row5\" >30-34</th>\n",
       "                        <td id=\"T_41d7ac70_8b2a_11ea_bc7c_3c9180851428row5_col0\" class=\"data row5 col0\" >52</td>\n",
       "                        <td id=\"T_41d7ac70_8b2a_11ea_bc7c_3c9180851428row5_col1\" class=\"data row5 col1\" >9.03%</td>\n",
       "            </tr>\n",
       "            <tr>\n",
       "                        <th id=\"T_41d7ac70_8b2a_11ea_bc7c_3c9180851428level0_row6\" class=\"row_heading level0 row6\" >35-39</th>\n",
       "                        <td id=\"T_41d7ac70_8b2a_11ea_bc7c_3c9180851428row6_col0\" class=\"data row6 col0\" >31</td>\n",
       "                        <td id=\"T_41d7ac70_8b2a_11ea_bc7c_3c9180851428row6_col1\" class=\"data row6 col1\" >5.38%</td>\n",
       "            </tr>\n",
       "            <tr>\n",
       "                        <th id=\"T_41d7ac70_8b2a_11ea_bc7c_3c9180851428level0_row7\" class=\"row_heading level0 row7\" >40+</th>\n",
       "                        <td id=\"T_41d7ac70_8b2a_11ea_bc7c_3c9180851428row7_col0\" class=\"data row7 col0\" >12</td>\n",
       "                        <td id=\"T_41d7ac70_8b2a_11ea_bc7c_3c9180851428row7_col1\" class=\"data row7 col1\" >2.08%</td>\n",
       "            </tr>\n",
       "    </tbody></table>"
      ],
      "text/plain": [
       "<pandas.io.formats.style.Styler at 0x194e6e35da0>"
      ]
     },
     "execution_count": 131,
     "metadata": {},
     "output_type": "execute_result"
    }
   ],
   "source": [
    "bins = [0, 9.90, 14.90, 19.90, 24.90, 29.90, 34.90, 39.90, 100]\n",
    "age_ranges = [\"<10\", \"10-14\", \"15-19\", \"20-24\", \"25-29\", \"30-34\", \"35-39\", \"40+\"]\n",
    "purchase_data[\"Age Ranges\"] = pd.cut(purchase_data[\"Age\"], bins, labels=age_ranges, include_lowest=True)\n",
    "\n",
    "unique_pd = purchase_data.drop_duplicates(subset=\"SN\", keep='first')\n",
    "grouped_pd = unique_pd.groupby(\"Age Ranges\")\n",
    "ages = grouped_pd[\"Age Ranges\"].count()\n",
    "total_players = len(purchase_data.SN.unique())\n",
    "age_percentage = ages/total_players*100\n",
    "\n",
    "#summary dataframe\n",
    "age_demo = {\"Total Count\":ages, \"Percentage of Players\":age_percentage}\n",
    "age_demo = pd.DataFrame(age_demo)\n",
    "\n",
    "#format and display\n",
    "age_demo.style.format({\"Percentage of Players\":\"{:,.2f}%\"})"
   ]
  },
  {
   "cell_type": "markdown",
   "metadata": {},
   "source": [
    "## Purchasing Analysis (Age)"
   ]
  },
  {
   "cell_type": "markdown",
   "metadata": {},
   "source": [
    "* Bin the purchase_data data frame by age\n",
    "\n",
    "\n",
    "* Run basic calculations to obtain purchase count, avg. purchase price, avg. purchase total per person etc. in the table below\n",
    "\n",
    "\n",
    "* Create a summary data frame to hold the results\n",
    "\n",
    "\n",
    "* Optional: give the displayed data cleaner formatting\n",
    "\n",
    "\n",
    "* Display the summary data frame"
   ]
  },
  {
   "cell_type": "code",
   "execution_count": 166,
   "metadata": {},
   "outputs": [
    {
     "data": {
      "text/html": [
       "<style  type=\"text/css\" >\n",
       "</style><table id=\"T_d0e6d800_8b2f_11ea_82db_3c9180851428\" ><thead>    <tr>        <th class=\"blank level0\" ></th>        <th class=\"col_heading level0 col0\" >Purchase Count</th>        <th class=\"col_heading level0 col1\" >Average Purchase Price</th>        <th class=\"col_heading level0 col2\" >Total Purchase Value</th>        <th class=\"col_heading level0 col3\" >Avg Total Purchase per Person</th>    </tr>    <tr>        <th class=\"index_name level0\" >Age Ranges</th>        <th class=\"blank\" ></th>        <th class=\"blank\" ></th>        <th class=\"blank\" ></th>        <th class=\"blank\" ></th>    </tr></thead><tbody>\n",
       "                <tr>\n",
       "                        <th id=\"T_d0e6d800_8b2f_11ea_82db_3c9180851428level0_row0\" class=\"row_heading level0 row0\" ><10</th>\n",
       "                        <td id=\"T_d0e6d800_8b2f_11ea_82db_3c9180851428row0_col0\" class=\"data row0 col0\" >23</td>\n",
       "                        <td id=\"T_d0e6d800_8b2f_11ea_82db_3c9180851428row0_col1\" class=\"data row0 col1\" >$3.35</td>\n",
       "                        <td id=\"T_d0e6d800_8b2f_11ea_82db_3c9180851428row0_col2\" class=\"data row0 col2\" >$77.13</td>\n",
       "                        <td id=\"T_d0e6d800_8b2f_11ea_82db_3c9180851428row0_col3\" class=\"data row0 col3\" >$0.13</td>\n",
       "            </tr>\n",
       "            <tr>\n",
       "                        <th id=\"T_d0e6d800_8b2f_11ea_82db_3c9180851428level0_row1\" class=\"row_heading level0 row1\" >10-14</th>\n",
       "                        <td id=\"T_d0e6d800_8b2f_11ea_82db_3c9180851428row1_col0\" class=\"data row1 col0\" >28</td>\n",
       "                        <td id=\"T_d0e6d800_8b2f_11ea_82db_3c9180851428row1_col1\" class=\"data row1 col1\" >$2.96</td>\n",
       "                        <td id=\"T_d0e6d800_8b2f_11ea_82db_3c9180851428row1_col2\" class=\"data row1 col2\" >$82.78</td>\n",
       "                        <td id=\"T_d0e6d800_8b2f_11ea_82db_3c9180851428row1_col3\" class=\"data row1 col3\" >$0.14</td>\n",
       "            </tr>\n",
       "            <tr>\n",
       "                        <th id=\"T_d0e6d800_8b2f_11ea_82db_3c9180851428level0_row2\" class=\"row_heading level0 row2\" >15-19</th>\n",
       "                        <td id=\"T_d0e6d800_8b2f_11ea_82db_3c9180851428row2_col0\" class=\"data row2 col0\" >136</td>\n",
       "                        <td id=\"T_d0e6d800_8b2f_11ea_82db_3c9180851428row2_col1\" class=\"data row2 col1\" >$3.04</td>\n",
       "                        <td id=\"T_d0e6d800_8b2f_11ea_82db_3c9180851428row2_col2\" class=\"data row2 col2\" >$412.89</td>\n",
       "                        <td id=\"T_d0e6d800_8b2f_11ea_82db_3c9180851428row2_col3\" class=\"data row2 col3\" >$0.72</td>\n",
       "            </tr>\n",
       "            <tr>\n",
       "                        <th id=\"T_d0e6d800_8b2f_11ea_82db_3c9180851428level0_row3\" class=\"row_heading level0 row3\" >20-24</th>\n",
       "                        <td id=\"T_d0e6d800_8b2f_11ea_82db_3c9180851428row3_col0\" class=\"data row3 col0\" >365</td>\n",
       "                        <td id=\"T_d0e6d800_8b2f_11ea_82db_3c9180851428row3_col1\" class=\"data row3 col1\" >$3.05</td>\n",
       "                        <td id=\"T_d0e6d800_8b2f_11ea_82db_3c9180851428row3_col2\" class=\"data row3 col2\" >$1,114.06</td>\n",
       "                        <td id=\"T_d0e6d800_8b2f_11ea_82db_3c9180851428row3_col3\" class=\"data row3 col3\" >$1.93</td>\n",
       "            </tr>\n",
       "            <tr>\n",
       "                        <th id=\"T_d0e6d800_8b2f_11ea_82db_3c9180851428level0_row4\" class=\"row_heading level0 row4\" >25-29</th>\n",
       "                        <td id=\"T_d0e6d800_8b2f_11ea_82db_3c9180851428row4_col0\" class=\"data row4 col0\" >101</td>\n",
       "                        <td id=\"T_d0e6d800_8b2f_11ea_82db_3c9180851428row4_col1\" class=\"data row4 col1\" >$2.90</td>\n",
       "                        <td id=\"T_d0e6d800_8b2f_11ea_82db_3c9180851428row4_col2\" class=\"data row4 col2\" >$293.00</td>\n",
       "                        <td id=\"T_d0e6d800_8b2f_11ea_82db_3c9180851428row4_col3\" class=\"data row4 col3\" >$0.51</td>\n",
       "            </tr>\n",
       "            <tr>\n",
       "                        <th id=\"T_d0e6d800_8b2f_11ea_82db_3c9180851428level0_row5\" class=\"row_heading level0 row5\" >30-34</th>\n",
       "                        <td id=\"T_d0e6d800_8b2f_11ea_82db_3c9180851428row5_col0\" class=\"data row5 col0\" >73</td>\n",
       "                        <td id=\"T_d0e6d800_8b2f_11ea_82db_3c9180851428row5_col1\" class=\"data row5 col1\" >$2.93</td>\n",
       "                        <td id=\"T_d0e6d800_8b2f_11ea_82db_3c9180851428row5_col2\" class=\"data row5 col2\" >$214.00</td>\n",
       "                        <td id=\"T_d0e6d800_8b2f_11ea_82db_3c9180851428row5_col3\" class=\"data row5 col3\" >$0.37</td>\n",
       "            </tr>\n",
       "            <tr>\n",
       "                        <th id=\"T_d0e6d800_8b2f_11ea_82db_3c9180851428level0_row6\" class=\"row_heading level0 row6\" >35-39</th>\n",
       "                        <td id=\"T_d0e6d800_8b2f_11ea_82db_3c9180851428row6_col0\" class=\"data row6 col0\" >41</td>\n",
       "                        <td id=\"T_d0e6d800_8b2f_11ea_82db_3c9180851428row6_col1\" class=\"data row6 col1\" >$3.60</td>\n",
       "                        <td id=\"T_d0e6d800_8b2f_11ea_82db_3c9180851428row6_col2\" class=\"data row6 col2\" >$147.67</td>\n",
       "                        <td id=\"T_d0e6d800_8b2f_11ea_82db_3c9180851428row6_col3\" class=\"data row6 col3\" >$0.26</td>\n",
       "            </tr>\n",
       "            <tr>\n",
       "                        <th id=\"T_d0e6d800_8b2f_11ea_82db_3c9180851428level0_row7\" class=\"row_heading level0 row7\" >40+</th>\n",
       "                        <td id=\"T_d0e6d800_8b2f_11ea_82db_3c9180851428row7_col0\" class=\"data row7 col0\" >13</td>\n",
       "                        <td id=\"T_d0e6d800_8b2f_11ea_82db_3c9180851428row7_col1\" class=\"data row7 col1\" >$2.94</td>\n",
       "                        <td id=\"T_d0e6d800_8b2f_11ea_82db_3c9180851428row7_col2\" class=\"data row7 col2\" >$38.24</td>\n",
       "                        <td id=\"T_d0e6d800_8b2f_11ea_82db_3c9180851428row7_col3\" class=\"data row7 col3\" >$0.07</td>\n",
       "            </tr>\n",
       "    </tbody></table>"
      ],
      "text/plain": [
       "<pandas.io.formats.style.Styler at 0x194e72d56d8>"
      ]
     },
     "execution_count": 166,
     "metadata": {},
     "output_type": "execute_result"
    }
   ],
   "source": [
    "grouped_byage = purchase_data.groupby(\"Age Ranges\")\n",
    "purchase_count = grouped_byage[\"Price\"].count()\n",
    "purchase_ave = grouped_byage[\"Price\"].mean()\n",
    "purchase_total = grouped_byage[\"Price\"].sum()\n",
    "purchase_avepp = purchase_total/total_players\n",
    "\n",
    "#summary dataframe\n",
    "age_analysis = {\"Purchase Count\":purchase_count, \"Average Purchase Price\":purchase_ave, \n",
    "                   \"Total Purchase Value\":purchase_total, \"Avg Total Purchase per Person\":purchase_avepp}\n",
    "age_analysis = pd.DataFrame(age_analysis)\n",
    "\n",
    "#format and display\n",
    "age_analysis.style.format({\"Total Purchase Value\":\"${:,.2f}\", \"Average Purchase Price\":\"${:,.2f}\", \n",
    "                              \"Avg Total Purchase per Person\": \"${:,.2f}\"})"
   ]
  },
  {
   "cell_type": "markdown",
   "metadata": {},
   "source": [
    "## Top Spenders"
   ]
  },
  {
   "cell_type": "markdown",
   "metadata": {},
   "source": [
    "* Run basic calculations to obtain the results in the table below\n",
    "\n",
    "\n",
    "* Create a summary data frame to hold the results\n",
    "\n",
    "\n",
    "* Sort the total purchase value column in descending order\n",
    "\n",
    "\n",
    "* Optional: give the displayed data cleaner formatting\n",
    "\n",
    "\n",
    "* Display a preview of the summary data frame\n",
    "\n"
   ]
  },
  {
   "cell_type": "code",
   "execution_count": 163,
   "metadata": {},
   "outputs": [
    {
     "data": {
      "text/html": [
       "<div>\n",
       "<style scoped>\n",
       "    .dataframe tbody tr th:only-of-type {\n",
       "        vertical-align: middle;\n",
       "    }\n",
       "\n",
       "    .dataframe tbody tr th {\n",
       "        vertical-align: top;\n",
       "    }\n",
       "\n",
       "    .dataframe thead th {\n",
       "        text-align: right;\n",
       "    }\n",
       "</style>\n",
       "<table border=\"1\" class=\"dataframe\">\n",
       "  <thead>\n",
       "    <tr style=\"text-align: right;\">\n",
       "      <th></th>\n",
       "      <th>Purchase Count</th>\n",
       "      <th>Average Purchase Price</th>\n",
       "      <th>Total Purchase Value</th>\n",
       "    </tr>\n",
       "    <tr>\n",
       "      <th>SN</th>\n",
       "      <th></th>\n",
       "      <th></th>\n",
       "      <th></th>\n",
       "    </tr>\n",
       "  </thead>\n",
       "  <tbody>\n",
       "    <tr>\n",
       "      <th>Lisosia93</th>\n",
       "      <td>5</td>\n",
       "      <td>$3.79</td>\n",
       "      <td>$18.96</td>\n",
       "    </tr>\n",
       "    <tr>\n",
       "      <th>Idastidru52</th>\n",
       "      <td>4</td>\n",
       "      <td>$3.86</td>\n",
       "      <td>$15.45</td>\n",
       "    </tr>\n",
       "    <tr>\n",
       "      <th>Chamjask73</th>\n",
       "      <td>3</td>\n",
       "      <td>$4.61</td>\n",
       "      <td>$13.83</td>\n",
       "    </tr>\n",
       "    <tr>\n",
       "      <th>Iral74</th>\n",
       "      <td>4</td>\n",
       "      <td>$3.40</td>\n",
       "      <td>$13.62</td>\n",
       "    </tr>\n",
       "    <tr>\n",
       "      <th>Iskadarya95</th>\n",
       "      <td>3</td>\n",
       "      <td>$4.37</td>\n",
       "      <td>$13.10</td>\n",
       "    </tr>\n",
       "  </tbody>\n",
       "</table>\n",
       "</div>"
      ],
      "text/plain": [
       "             Purchase Count Average Purchase Price Total Purchase Value\n",
       "SN                                                                     \n",
       "Lisosia93                 5                  $3.79               $18.96\n",
       "Idastidru52               4                  $3.86               $15.45\n",
       "Chamjask73                3                  $4.61               $13.83\n",
       "Iral74                    4                  $3.40               $13.62\n",
       "Iskadarya95               3                  $4.37               $13.10"
      ]
     },
     "execution_count": 163,
     "metadata": {},
     "output_type": "execute_result"
    }
   ],
   "source": [
    "grouped_bysn = purchase_data.groupby(\"SN\")\n",
    "purchase_count = grouped_bysn[\"SN\"].count()\n",
    "purchase_ave = grouped_bysn[\"Price\"].mean()\n",
    "purchase_total = grouped_bysn[\"Price\"].sum()\n",
    "\n",
    "top_spenders = {\"Purchase Count\":purchase_count, \"Average Purchase Price\":purchase_ave, \n",
    "                   \"Total Purchase Value\":purchase_total}\n",
    "\n",
    "top_spenders = pd.DataFrame(top_spenders)\n",
    "spenders_sorted = top_spenders.sort_values(\"Total Purchase Value\", ascending = False)\n",
    "#format\n",
    "spenders_sorted[\"Average Purchase Price\"] = spenders_sorted[\"Average Purchase Price\"].map(\"${:,.2f}\".format)\n",
    "spenders_sorted[\"Total Purchase Value\"] = spenders_sorted[\"Total Purchase Value\"].map(\"${:,.2f}\".format)\n",
    "#display\n",
    "spenders_sorted.head()\n"
   ]
  },
  {
   "cell_type": "markdown",
   "metadata": {},
   "source": [
    "## Most Popular Items"
   ]
  },
  {
   "cell_type": "markdown",
   "metadata": {},
   "source": [
    "* Retrieve the Item ID, Item Name, and Item Price columns\n",
    "\n",
    "\n",
    "* Group by Item ID and Item Name. Perform calculations to obtain purchase count, item price, and total purchase value\n",
    "\n",
    "\n",
    "* Create a summary data frame to hold the results\n",
    "\n",
    "\n",
    "* Sort the purchase count column in descending order\n",
    "\n",
    "\n",
    "* Optional: give the displayed data cleaner formatting\n",
    "\n",
    "\n",
    "* Display a preview of the summary data frame\n",
    "\n"
   ]
  },
  {
   "cell_type": "code",
   "execution_count": 161,
   "metadata": {},
   "outputs": [
    {
     "data": {
      "text/html": [
       "<div>\n",
       "<style scoped>\n",
       "    .dataframe tbody tr th:only-of-type {\n",
       "        vertical-align: middle;\n",
       "    }\n",
       "\n",
       "    .dataframe tbody tr th {\n",
       "        vertical-align: top;\n",
       "    }\n",
       "\n",
       "    .dataframe thead th {\n",
       "        text-align: right;\n",
       "    }\n",
       "</style>\n",
       "<table border=\"1\" class=\"dataframe\">\n",
       "  <thead>\n",
       "    <tr style=\"text-align: right;\">\n",
       "      <th></th>\n",
       "      <th></th>\n",
       "      <th>Purchase Count</th>\n",
       "      <th>Average Purchase Price</th>\n",
       "      <th>Total Purchase Value</th>\n",
       "    </tr>\n",
       "    <tr>\n",
       "      <th>Item ID</th>\n",
       "      <th>Item Name</th>\n",
       "      <th></th>\n",
       "      <th></th>\n",
       "      <th></th>\n",
       "    </tr>\n",
       "  </thead>\n",
       "  <tbody>\n",
       "    <tr>\n",
       "      <th>92</th>\n",
       "      <th>Final Critic</th>\n",
       "      <td>13</td>\n",
       "      <td>$4.61</td>\n",
       "      <td>$59.99</td>\n",
       "    </tr>\n",
       "    <tr>\n",
       "      <th>178</th>\n",
       "      <th>Oathbreaker, Last Hope of the Breaking Storm</th>\n",
       "      <td>12</td>\n",
       "      <td>$4.23</td>\n",
       "      <td>$50.76</td>\n",
       "    </tr>\n",
       "    <tr>\n",
       "      <th>145</th>\n",
       "      <th>Fiery Glass Crusader</th>\n",
       "      <td>9</td>\n",
       "      <td>$4.58</td>\n",
       "      <td>$41.22</td>\n",
       "    </tr>\n",
       "    <tr>\n",
       "      <th>132</th>\n",
       "      <th>Persuasion</th>\n",
       "      <td>9</td>\n",
       "      <td>$3.22</td>\n",
       "      <td>$28.99</td>\n",
       "    </tr>\n",
       "    <tr>\n",
       "      <th>108</th>\n",
       "      <th>Extraction, Quickblade Of Trembling Hands</th>\n",
       "      <td>9</td>\n",
       "      <td>$3.53</td>\n",
       "      <td>$31.77</td>\n",
       "    </tr>\n",
       "  </tbody>\n",
       "</table>\n",
       "</div>"
      ],
      "text/plain": [
       "                                                      Purchase Count  \\\n",
       "Item ID Item Name                                                      \n",
       "92      Final Critic                                              13   \n",
       "178     Oathbreaker, Last Hope of the Breaking Storm              12   \n",
       "145     Fiery Glass Crusader                                       9   \n",
       "132     Persuasion                                                 9   \n",
       "108     Extraction, Quickblade Of Trembling Hands                  9   \n",
       "\n",
       "                                                     Average Purchase Price  \\\n",
       "Item ID Item Name                                                             \n",
       "92      Final Critic                                                  $4.61   \n",
       "178     Oathbreaker, Last Hope of the Breaking Storm                  $4.23   \n",
       "145     Fiery Glass Crusader                                          $4.58   \n",
       "132     Persuasion                                                    $3.22   \n",
       "108     Extraction, Quickblade Of Trembling Hands                     $3.53   \n",
       "\n",
       "                                                     Total Purchase Value  \n",
       "Item ID Item Name                                                          \n",
       "92      Final Critic                                               $59.99  \n",
       "178     Oathbreaker, Last Hope of the Breaking Storm               $50.76  \n",
       "145     Fiery Glass Crusader                                       $41.22  \n",
       "132     Persuasion                                                 $28.99  \n",
       "108     Extraction, Quickblade Of Trembling Hands                  $31.77  "
      ]
     },
     "execution_count": 161,
     "metadata": {},
     "output_type": "execute_result"
    }
   ],
   "source": [
    "grouped_byitems = purchase_data.groupby([\"Item ID\", \"Item Name\"])\n",
    "purchase_count = grouped_byitems[\"SN\"].count()\n",
    "purchase_ave = grouped_byitems[\"Price\"].mean()\n",
    "purchase_total = grouped_byitems[\"Price\"].sum()\n",
    "\n",
    "popular_items = {\"Purchase Count\":purchase_count, \"Average Purchase Price\":purchase_ave, \n",
    "                   \"Total Purchase Value\":purchase_total}\n",
    "\n",
    "popular_items = pd.DataFrame(popular_items)\n",
    "popular_items_sorted = popular_items.sort_values(\"Purchase Count\", ascending = False)\n",
    "#format\n",
    "popular_items_sorted[\"Average Purchase Price\"] = popular_items_sorted[\"Average Purchase Price\"].map(\"${:,.2f}\".format)\n",
    "popular_items_sorted[\"Total Purchase Value\"] = popular_items_sorted[\"Total Purchase Value\"].map(\"${:,.2f}\".format)\n",
    "#display\n",
    "popular_items_sorted.head()\n"
   ]
  },
  {
   "cell_type": "markdown",
   "metadata": {},
   "source": [
    "## Most Profitable Items"
   ]
  },
  {
   "cell_type": "markdown",
   "metadata": {},
   "source": [
    "* Sort the above table by total purchase value in descending order\n",
    "\n",
    "\n",
    "* Optional: give the displayed data cleaner formatting\n",
    "\n",
    "\n",
    "* Display a preview of the data frame\n",
    "\n"
   ]
  },
  {
   "cell_type": "code",
   "execution_count": 162,
   "metadata": {},
   "outputs": [
    {
     "data": {
      "text/html": [
       "<div>\n",
       "<style scoped>\n",
       "    .dataframe tbody tr th:only-of-type {\n",
       "        vertical-align: middle;\n",
       "    }\n",
       "\n",
       "    .dataframe tbody tr th {\n",
       "        vertical-align: top;\n",
       "    }\n",
       "\n",
       "    .dataframe thead th {\n",
       "        text-align: right;\n",
       "    }\n",
       "</style>\n",
       "<table border=\"1\" class=\"dataframe\">\n",
       "  <thead>\n",
       "    <tr style=\"text-align: right;\">\n",
       "      <th></th>\n",
       "      <th></th>\n",
       "      <th>Purchase Count</th>\n",
       "      <th>Average Purchase Price</th>\n",
       "      <th>Total Purchase Value</th>\n",
       "    </tr>\n",
       "    <tr>\n",
       "      <th>Item ID</th>\n",
       "      <th>Item Name</th>\n",
       "      <th></th>\n",
       "      <th></th>\n",
       "      <th></th>\n",
       "    </tr>\n",
       "  </thead>\n",
       "  <tbody>\n",
       "    <tr>\n",
       "      <th>92</th>\n",
       "      <th>Final Critic</th>\n",
       "      <td>13</td>\n",
       "      <td>$4.61</td>\n",
       "      <td>$59.99</td>\n",
       "    </tr>\n",
       "    <tr>\n",
       "      <th>178</th>\n",
       "      <th>Oathbreaker, Last Hope of the Breaking Storm</th>\n",
       "      <td>12</td>\n",
       "      <td>$4.23</td>\n",
       "      <td>$50.76</td>\n",
       "    </tr>\n",
       "    <tr>\n",
       "      <th>82</th>\n",
       "      <th>Nirvana</th>\n",
       "      <td>9</td>\n",
       "      <td>$4.90</td>\n",
       "      <td>$44.10</td>\n",
       "    </tr>\n",
       "    <tr>\n",
       "      <th>145</th>\n",
       "      <th>Fiery Glass Crusader</th>\n",
       "      <td>9</td>\n",
       "      <td>$4.58</td>\n",
       "      <td>$41.22</td>\n",
       "    </tr>\n",
       "    <tr>\n",
       "      <th>103</th>\n",
       "      <th>Singed Scalpel</th>\n",
       "      <td>8</td>\n",
       "      <td>$4.35</td>\n",
       "      <td>$34.80</td>\n",
       "    </tr>\n",
       "  </tbody>\n",
       "</table>\n",
       "</div>"
      ],
      "text/plain": [
       "                                                      Purchase Count  \\\n",
       "Item ID Item Name                                                      \n",
       "92      Final Critic                                              13   \n",
       "178     Oathbreaker, Last Hope of the Breaking Storm              12   \n",
       "82      Nirvana                                                    9   \n",
       "145     Fiery Glass Crusader                                       9   \n",
       "103     Singed Scalpel                                             8   \n",
       "\n",
       "                                                     Average Purchase Price  \\\n",
       "Item ID Item Name                                                             \n",
       "92      Final Critic                                                  $4.61   \n",
       "178     Oathbreaker, Last Hope of the Breaking Storm                  $4.23   \n",
       "82      Nirvana                                                       $4.90   \n",
       "145     Fiery Glass Crusader                                          $4.58   \n",
       "103     Singed Scalpel                                                $4.35   \n",
       "\n",
       "                                                     Total Purchase Value  \n",
       "Item ID Item Name                                                          \n",
       "92      Final Critic                                               $59.99  \n",
       "178     Oathbreaker, Last Hope of the Breaking Storm               $50.76  \n",
       "82      Nirvana                                                    $44.10  \n",
       "145     Fiery Glass Crusader                                       $41.22  \n",
       "103     Singed Scalpel                                             $34.80  "
      ]
     },
     "execution_count": 162,
     "metadata": {},
     "output_type": "execute_result"
    }
   ],
   "source": [
    "mostprofitable_items = popular_items.sort_values(\"Total Purchase Value\", ascending = False)\n",
    "#format\n",
    "mostprofitable_items[\"Average Purchase Price\"] = mostprofitable_items[\"Average Purchase Price\"].map(\"${:,.2f}\".format)\n",
    "mostprofitable_items[\"Total Purchase Value\"] = mostprofitable_items[\"Total Purchase Value\"].map(\"${:,.2f}\".format)\n",
    "#display\n",
    "mostprofitable_items.head()\n"
   ]
  },
  {
   "cell_type": "code",
   "execution_count": null,
   "metadata": {},
   "outputs": [],
   "source": []
  }
 ],
 "metadata": {
  "kernelspec": {
   "display_name": "Python 3",
   "language": "python",
   "name": "python3"
  },
  "language_info": {
   "codemirror_mode": {
    "name": "ipython",
    "version": 3
   },
   "file_extension": ".py",
   "mimetype": "text/x-python",
   "name": "python",
   "nbconvert_exporter": "python",
   "pygments_lexer": "ipython3",
   "version": "3.7.3"
  }
 },
 "nbformat": 4,
 "nbformat_minor": 4
}
